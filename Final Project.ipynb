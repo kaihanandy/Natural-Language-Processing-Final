{
 "cells": [
  {
   "cell_type": "code",
   "execution_count": 1,
   "id": "793ccff2",
   "metadata": {
    "_cell_guid": "b1076dfc-b9ad-4769-8c92-a6c4dae69d19",
    "_uuid": "8f2839f25d086af736a60e9eeb907d3b93b6e0e5",
    "execution": {
     "iopub.execute_input": "2021-08-25T16:05:50.469268Z",
     "iopub.status.busy": "2021-08-25T16:05:50.468622Z",
     "iopub.status.idle": "2021-08-25T16:05:50.472083Z",
     "shell.execute_reply": "2021-08-25T16:05:50.471342Z",
     "shell.execute_reply.started": "2021-08-25T16:03:57.158641Z"
    },
    "papermill": {
     "duration": 0.033181,
     "end_time": "2021-08-25T16:05:50.472256",
     "exception": false,
     "start_time": "2021-08-25T16:05:50.439075",
     "status": "completed"
    },
    "tags": []
   },
   "outputs": [],
   "source": [
    "import numpy as np \n",
    "import pandas as pd"
   ]
  },
  {
   "cell_type": "code",
   "execution_count": 2,
   "id": "b3184a66",
   "metadata": {
    "execution": {
     "iopub.execute_input": "2021-08-25T16:05:50.513467Z",
     "iopub.status.busy": "2021-08-25T16:05:50.512782Z",
     "iopub.status.idle": "2021-08-25T16:05:50.690214Z",
     "shell.execute_reply": "2021-08-25T16:05:50.689662Z",
     "shell.execute_reply.started": "2021-08-25T16:03:57.170487Z"
    },
    "papermill": {
     "duration": 0.199821,
     "end_time": "2021-08-25T16:05:50.690358",
     "exception": false,
     "start_time": "2021-08-25T16:05:50.490537",
     "status": "completed"
    },
    "tags": []
   },
   "outputs": [],
   "source": [
    "train_df = pd.read_csv('train.csv')\n",
    "test_df = pd.read_csv(\"test.csv\")"
   ]
  },
  {
   "cell_type": "markdown",
   "id": "6984005b",
   "metadata": {
    "execution": {
     "iopub.execute_input": "2021-08-16T07:18:01.04299Z",
     "iopub.status.busy": "2021-08-16T07:18:01.042219Z",
     "iopub.status.idle": "2021-08-16T07:18:01.049846Z",
     "shell.execute_reply": "2021-08-16T07:18:01.047692Z",
     "shell.execute_reply.started": "2021-08-16T07:18:01.042954Z"
    },
    "papermill": {
     "duration": 0.017604,
     "end_time": "2021-08-25T16:05:50.725997",
     "exception": false,
     "start_time": "2021-08-25T16:05:50.708393",
     "status": "completed"
    },
    "tags": []
   },
   "source": [
    "# Data"
   ]
  },
  {
   "cell_type": "code",
   "execution_count": 3,
   "id": "1854f9c3",
   "metadata": {
    "execution": {
     "iopub.execute_input": "2021-08-25T16:05:50.772826Z",
     "iopub.status.busy": "2021-08-25T16:05:50.772164Z",
     "iopub.status.idle": "2021-08-25T16:05:50.789597Z",
     "shell.execute_reply": "2021-08-25T16:05:50.790075Z",
     "shell.execute_reply.started": "2021-08-25T16:03:57.381014Z"
    },
    "papermill": {
     "duration": 0.046367,
     "end_time": "2021-08-25T16:05:50.790259",
     "exception": false,
     "start_time": "2021-08-25T16:05:50.743892",
     "status": "completed"
    },
    "tags": []
   },
   "outputs": [
    {
     "data": {
      "text/html": [
       "<div>\n",
       "<style scoped>\n",
       "    .dataframe tbody tr th:only-of-type {\n",
       "        vertical-align: middle;\n",
       "    }\n",
       "\n",
       "    .dataframe tbody tr th {\n",
       "        vertical-align: top;\n",
       "    }\n",
       "\n",
       "    .dataframe thead th {\n",
       "        text-align: right;\n",
       "    }\n",
       "</style>\n",
       "<table border=\"1\" class=\"dataframe\">\n",
       "  <thead>\n",
       "    <tr style=\"text-align: right;\">\n",
       "      <th></th>\n",
       "      <th>id</th>\n",
       "      <th>keyword</th>\n",
       "      <th>location</th>\n",
       "      <th>text</th>\n",
       "      <th>target</th>\n",
       "    </tr>\n",
       "  </thead>\n",
       "  <tbody>\n",
       "    <tr>\n",
       "      <th>0</th>\n",
       "      <td>1</td>\n",
       "      <td>NaN</td>\n",
       "      <td>NaN</td>\n",
       "      <td>Our Deeds are the Reason of this #earthquake M...</td>\n",
       "      <td>1</td>\n",
       "    </tr>\n",
       "    <tr>\n",
       "      <th>1</th>\n",
       "      <td>4</td>\n",
       "      <td>NaN</td>\n",
       "      <td>NaN</td>\n",
       "      <td>Forest fire near La Ronge Sask. Canada</td>\n",
       "      <td>1</td>\n",
       "    </tr>\n",
       "    <tr>\n",
       "      <th>2</th>\n",
       "      <td>5</td>\n",
       "      <td>NaN</td>\n",
       "      <td>NaN</td>\n",
       "      <td>All residents asked to 'shelter in place' are ...</td>\n",
       "      <td>1</td>\n",
       "    </tr>\n",
       "    <tr>\n",
       "      <th>3</th>\n",
       "      <td>6</td>\n",
       "      <td>NaN</td>\n",
       "      <td>NaN</td>\n",
       "      <td>13,000 people receive #wildfires evacuation or...</td>\n",
       "      <td>1</td>\n",
       "    </tr>\n",
       "    <tr>\n",
       "      <th>4</th>\n",
       "      <td>7</td>\n",
       "      <td>NaN</td>\n",
       "      <td>NaN</td>\n",
       "      <td>Just got sent this photo from Ruby #Alaska as ...</td>\n",
       "      <td>1</td>\n",
       "    </tr>\n",
       "  </tbody>\n",
       "</table>\n",
       "</div>"
      ],
      "text/plain": [
       "   id keyword location                                               text  \\\n",
       "0   1     NaN      NaN  Our Deeds are the Reason of this #earthquake M...   \n",
       "1   4     NaN      NaN             Forest fire near La Ronge Sask. Canada   \n",
       "2   5     NaN      NaN  All residents asked to 'shelter in place' are ...   \n",
       "3   6     NaN      NaN  13,000 people receive #wildfires evacuation or...   \n",
       "4   7     NaN      NaN  Just got sent this photo from Ruby #Alaska as ...   \n",
       "\n",
       "   target  \n",
       "0       1  \n",
       "1       1  \n",
       "2       1  \n",
       "3       1  \n",
       "4       1  "
      ]
     },
     "execution_count": 3,
     "metadata": {},
     "output_type": "execute_result"
    }
   ],
   "source": [
    "train_df.head(5)"
   ]
  },
  {
   "cell_type": "markdown",
   "id": "57de3673",
   "metadata": {
    "papermill": {
     "duration": 0.017956,
     "end_time": "2021-08-25T16:05:50.826921",
     "exception": false,
     "start_time": "2021-08-25T16:05:50.808965",
     "status": "completed"
    },
    "tags": []
   },
   "source": []
  },
  {
   "cell_type": "code",
   "execution_count": 4,
   "id": "b44f0e93",
   "metadata": {
    "execution": {
     "iopub.execute_input": "2021-08-25T16:05:50.870510Z",
     "iopub.status.busy": "2021-08-25T16:05:50.869857Z",
     "iopub.status.idle": "2021-08-25T16:05:50.891421Z",
     "shell.execute_reply": "2021-08-25T16:05:50.891967Z",
     "shell.execute_reply.started": "2021-08-25T16:03:57.410403Z"
    },
    "papermill": {
     "duration": 0.04683,
     "end_time": "2021-08-25T16:05:50.892167",
     "exception": false,
     "start_time": "2021-08-25T16:05:50.845337",
     "status": "completed"
    },
    "tags": []
   },
   "outputs": [
    {
     "data": {
      "text/plain": [
       "'Forest fire near La Ronge Sask. Canada'"
      ]
     },
     "execution_count": 4,
     "metadata": {},
     "output_type": "execute_result"
    }
   ],
   "source": [
    "train_df[train_df[\"target\"] == 1].text.values[1]"
   ]
  },
  {
   "cell_type": "code",
   "execution_count": 5,
   "id": "84d3b51f",
   "metadata": {
    "execution": {
     "iopub.execute_input": "2021-08-25T16:05:50.933483Z",
     "iopub.status.busy": "2021-08-25T16:05:50.932856Z",
     "iopub.status.idle": "2021-08-25T16:05:50.940735Z",
     "shell.execute_reply": "2021-08-25T16:05:50.940225Z",
     "shell.execute_reply.started": "2021-08-25T16:03:57.436709Z"
    },
    "papermill": {
     "duration": 0.029122,
     "end_time": "2021-08-25T16:05:50.940864",
     "exception": false,
     "start_time": "2021-08-25T16:05:50.911742",
     "status": "completed"
    },
    "tags": []
   },
   "outputs": [
    {
     "data": {
      "text/plain": [
       "'I love fruits'"
      ]
     },
     "execution_count": 5,
     "metadata": {},
     "output_type": "execute_result"
    }
   ],
   "source": [
    "train_df[train_df[\"target\"] == 0].text.values[1]"
   ]
  },
  {
   "cell_type": "markdown",
   "id": "e918ac4f",
   "metadata": {
    "papermill": {
     "duration": 0.018718,
     "end_time": "2021-08-25T16:05:50.978615",
     "exception": false,
     "start_time": "2021-08-25T16:05:50.959897",
     "status": "completed"
    },
    "tags": []
   },
   "source": [
    "# Building vectors"
   ]
  },
  {
   "cell_type": "code",
   "execution_count": 6,
   "id": "fd3c5170",
   "metadata": {
    "execution": {
     "iopub.execute_input": "2021-08-25T16:05:51.021435Z",
     "iopub.status.busy": "2021-08-25T16:05:51.020800Z",
     "iopub.status.idle": "2021-08-25T16:05:51.970097Z",
     "shell.execute_reply": "2021-08-25T16:05:51.969557Z",
     "shell.execute_reply.started": "2021-08-25T16:03:57.446088Z"
    },
    "papermill": {
     "duration": 0.972264,
     "end_time": "2021-08-25T16:05:51.970273",
     "exception": false,
     "start_time": "2021-08-25T16:05:50.998009",
     "status": "completed"
    },
    "tags": []
   },
   "outputs": [],
   "source": [
    "from sklearn import feature_extraction"
   ]
  },
  {
   "cell_type": "code",
   "execution_count": 7,
   "id": "e3544e54",
   "metadata": {
    "execution": {
     "iopub.execute_input": "2021-08-25T16:05:52.019465Z",
     "iopub.status.busy": "2021-08-25T16:05:52.018796Z",
     "iopub.status.idle": "2021-08-25T16:05:52.021986Z",
     "shell.execute_reply": "2021-08-25T16:05:52.021503Z",
     "shell.execute_reply.started": "2021-08-25T16:03:58.311084Z"
    },
    "papermill": {
     "duration": 0.03268,
     "end_time": "2021-08-25T16:05:52.022121",
     "exception": false,
     "start_time": "2021-08-25T16:05:51.989441",
     "status": "completed"
    },
    "tags": []
   },
   "outputs": [],
   "source": [
    "count_vectorizer =  feature_extraction.text.CountVectorizer()\n",
    "example_train_vectors = count_vectorizer.fit_transform(train_df[\"text\"][0:5])"
   ]
  },
  {
   "cell_type": "code",
   "execution_count": 8,
   "id": "238c89db",
   "metadata": {
    "execution": {
     "iopub.execute_input": "2021-08-25T16:05:52.063011Z",
     "iopub.status.busy": "2021-08-25T16:05:52.062390Z",
     "iopub.status.idle": "2021-08-25T16:05:52.069090Z",
     "shell.execute_reply": "2021-08-25T16:05:52.069802Z",
     "shell.execute_reply.started": "2021-08-25T16:03:58.323798Z"
    },
    "papermill": {
     "duration": 0.028914,
     "end_time": "2021-08-25T16:05:52.070012",
     "exception": false,
     "start_time": "2021-08-25T16:05:52.041098",
     "status": "completed"
    },
    "tags": []
   },
   "outputs": [
    {
     "name": "stdout",
     "output_type": "stream",
     "text": [
      "(5, 54)\n",
      "[[0 0 0 1 1 1 0 0 0 0 0 0 1 1 0 0 0 0 1 0 0 0 0 0 0 1 0 0 0 1 0 0 0 0 1 0\n",
      "  0 0 0 1 0 0 0 0 0 0 0 0 0 1 1 0 1 0]\n",
      " [0 0 0 0 0 0 0 0 0 0 0 1 0 0 0 0 1 1 0 0 0 0 0 0 1 0 1 0 0 0 0 0 0 0 0 0\n",
      "  0 0 0 0 0 0 1 0 1 0 0 0 0 0 0 0 0 0]\n",
      " [0 0 0 1 0 2 0 1 1 1 0 0 0 0 1 1 0 0 0 0 0 2 0 0 0 0 0 1 1 0 1 1 1 1 0 0\n",
      "  0 2 0 0 0 1 0 0 0 0 0 2 0 0 0 1 0 0]\n",
      " [1 1 0 0 0 0 0 0 0 0 1 0 0 0 1 0 0 0 0 0 0 1 0 0 0 0 0 0 0 0 0 0 1 0 0 1\n",
      "  0 0 0 0 1 0 0 0 0 0 0 0 0 0 0 0 0 1]\n",
      " [0 0 1 0 0 0 1 0 0 0 0 0 0 0 0 0 0 0 0 2 1 0 1 1 0 0 0 0 0 0 0 0 0 0 0 0\n",
      "  1 0 1 0 0 0 0 1 0 1 1 0 1 0 1 0 0 1]]\n"
     ]
    }
   ],
   "source": [
    "print(example_train_vectors.todense().shape)\n",
    "print(example_train_vectors.todense())"
   ]
  },
  {
   "cell_type": "markdown",
   "id": "a60a706a",
   "metadata": {
    "papermill": {
     "duration": 0.018954,
     "end_time": "2021-08-25T16:05:52.109044",
     "exception": false,
     "start_time": "2021-08-25T16:05:52.090090",
     "status": "completed"
    },
    "tags": []
   },
   "source": [
    "Summary on above\n",
    "1. There are 54 unique words from 5 tweets\n",
    "2. Example first tweets contains only some of the unique words. The non zero values are the word that do exists in the first tweet"
   ]
  },
  {
   "cell_type": "code",
   "execution_count": 9,
   "id": "1a4a498e",
   "metadata": {
    "execution": {
     "iopub.execute_input": "2021-08-25T16:05:52.157431Z",
     "iopub.status.busy": "2021-08-25T16:05:52.156737Z",
     "iopub.status.idle": "2021-08-25T16:05:52.473066Z",
     "shell.execute_reply": "2021-08-25T16:05:52.472531Z",
     "shell.execute_reply.started": "2021-08-25T16:03:58.336807Z"
    },
    "papermill": {
     "duration": 0.344642,
     "end_time": "2021-08-25T16:05:52.473229",
     "exception": false,
     "start_time": "2021-08-25T16:05:52.128587",
     "status": "completed"
    },
    "tags": []
   },
   "outputs": [],
   "source": [
    "train_vectors = count_vectorizer.fit_transform(train_df['text'])\n",
    "test_vectors = count_vectorizer.transform(test_df[\"text\"])"
   ]
  },
  {
   "cell_type": "markdown",
   "id": "0e23ddb7",
   "metadata": {
    "papermill": {
     "duration": 0.019024,
     "end_time": "2021-08-25T16:05:52.511697",
     "exception": false,
     "start_time": "2021-08-25T16:05:52.492673",
     "status": "completed"
    },
    "tags": []
   },
   "source": [
    "Lets check how model behaves on training data using cross validation"
   ]
  },
  {
   "cell_type": "code",
   "execution_count": 10,
   "id": "23915dfd",
   "metadata": {
    "execution": {
     "iopub.execute_input": "2021-08-25T16:05:52.554931Z",
     "iopub.status.busy": "2021-08-25T16:05:52.554309Z",
     "iopub.status.idle": "2021-08-25T16:05:52.693798Z",
     "shell.execute_reply": "2021-08-25T16:05:52.693251Z",
     "shell.execute_reply.started": "2021-08-25T16:03:58.662859Z"
    },
    "papermill": {
     "duration": 0.162785,
     "end_time": "2021-08-25T16:05:52.693943",
     "exception": false,
     "start_time": "2021-08-25T16:05:52.531158",
     "status": "completed"
    },
    "tags": []
   },
   "outputs": [],
   "source": [
    "from sklearn.linear_model import RidgeClassifier\n",
    "from sklearn.model_selection import cross_val_score"
   ]
  },
  {
   "cell_type": "code",
   "execution_count": 11,
   "id": "d28abc01",
   "metadata": {
    "execution": {
     "iopub.execute_input": "2021-08-25T16:05:52.738224Z",
     "iopub.status.busy": "2021-08-25T16:05:52.737571Z",
     "iopub.status.idle": "2021-08-25T16:05:52.740735Z",
     "shell.execute_reply": "2021-08-25T16:05:52.741698Z",
     "shell.execute_reply.started": "2021-08-25T16:03:58.796003Z"
    },
    "papermill": {
     "duration": 0.028388,
     "end_time": "2021-08-25T16:05:52.741862",
     "exception": false,
     "start_time": "2021-08-25T16:05:52.713474",
     "status": "completed"
    },
    "tags": []
   },
   "outputs": [
    {
     "name": "stdout",
     "output_type": "stream",
     "text": [
      "Help on function cross_val_score in module sklearn.model_selection._validation:\n",
      "\n",
      "cross_val_score(estimator, X, y=None, *, groups=None, scoring=None, cv=None, n_jobs=None, verbose=0, fit_params=None, pre_dispatch='2*n_jobs', error_score=nan)\n",
      "    Evaluate a score by cross-validation\n",
      "    \n",
      "    Read more in the :ref:`User Guide <cross_validation>`.\n",
      "    \n",
      "    Parameters\n",
      "    ----------\n",
      "    estimator : estimator object implementing 'fit'\n",
      "        The object to use to fit the data.\n",
      "    \n",
      "    X : array-like of shape (n_samples, n_features)\n",
      "        The data to fit. Can be for example a list, or an array.\n",
      "    \n",
      "    y : array-like of shape (n_samples,) or (n_samples, n_outputs),             default=None\n",
      "        The target variable to try to predict in the case of\n",
      "        supervised learning.\n",
      "    \n",
      "    groups : array-like of shape (n_samples,), default=None\n",
      "        Group labels for the samples used while splitting the dataset into\n",
      "        train/test set. Only used in conjunction with a \"Group\" :term:`cv`\n",
      "        instance (e.g., :class:`GroupKFold`).\n",
      "    \n",
      "    scoring : str or callable, default=None\n",
      "        A str (see model evaluation documentation) or\n",
      "        a scorer callable object / function with signature\n",
      "        ``scorer(estimator, X, y)`` which should return only\n",
      "        a single value.\n",
      "    \n",
      "        Similar to :func:`cross_validate`\n",
      "        but only a single metric is permitted.\n",
      "    \n",
      "        If None, the estimator's default scorer (if available) is used.\n",
      "    \n",
      "    cv : int, cross-validation generator or an iterable, default=None\n",
      "        Determines the cross-validation splitting strategy.\n",
      "        Possible inputs for cv are:\n",
      "    \n",
      "        - None, to use the default 5-fold cross validation,\n",
      "        - int, to specify the number of folds in a `(Stratified)KFold`,\n",
      "        - :term:`CV splitter`,\n",
      "        - An iterable yielding (train, test) splits as arrays of indices.\n",
      "    \n",
      "        For int/None inputs, if the estimator is a classifier and ``y`` is\n",
      "        either binary or multiclass, :class:`StratifiedKFold` is used. In all\n",
      "        other cases, :class:`KFold` is used. These splitters are instantiated\n",
      "        with `shuffle=False` so the splits will be the same across calls.\n",
      "    \n",
      "        Refer :ref:`User Guide <cross_validation>` for the various\n",
      "        cross-validation strategies that can be used here.\n",
      "    \n",
      "        .. versionchanged:: 0.22\n",
      "            ``cv`` default value if None changed from 3-fold to 5-fold.\n",
      "    \n",
      "    n_jobs : int, default=None\n",
      "        Number of jobs to run in parallel. Training the estimator and computing\n",
      "        the score are parallelized over the cross-validation splits.\n",
      "        ``None`` means 1 unless in a :obj:`joblib.parallel_backend` context.\n",
      "        ``-1`` means using all processors. See :term:`Glossary <n_jobs>`\n",
      "        for more details.\n",
      "    \n",
      "    verbose : int, default=0\n",
      "        The verbosity level.\n",
      "    \n",
      "    fit_params : dict, default=None\n",
      "        Parameters to pass to the fit method of the estimator.\n",
      "    \n",
      "    pre_dispatch : int or str, default='2*n_jobs'\n",
      "        Controls the number of jobs that get dispatched during parallel\n",
      "        execution. Reducing this number can be useful to avoid an\n",
      "        explosion of memory consumption when more jobs get dispatched\n",
      "        than CPUs can process. This parameter can be:\n",
      "    \n",
      "            - None, in which case all the jobs are immediately\n",
      "              created and spawned. Use this for lightweight and\n",
      "              fast-running jobs, to avoid delays due to on-demand\n",
      "              spawning of the jobs\n",
      "    \n",
      "            - An int, giving the exact number of total jobs that are\n",
      "              spawned\n",
      "    \n",
      "            - A str, giving an expression as a function of n_jobs,\n",
      "              as in '2*n_jobs'\n",
      "    \n",
      "    error_score : 'raise' or numeric, default=np.nan\n",
      "        Value to assign to the score if an error occurs in estimator fitting.\n",
      "        If set to 'raise', the error is raised.\n",
      "        If a numeric value is given, FitFailedWarning is raised.\n",
      "    \n",
      "        .. versionadded:: 0.20\n",
      "    \n",
      "    Returns\n",
      "    -------\n",
      "    scores : ndarray of float of shape=(len(list(cv)),)\n",
      "        Array of scores of the estimator for each run of the cross validation.\n",
      "    \n",
      "    Examples\n",
      "    --------\n",
      "    >>> from sklearn import datasets, linear_model\n",
      "    >>> from sklearn.model_selection import cross_val_score\n",
      "    >>> diabetes = datasets.load_diabetes()\n",
      "    >>> X = diabetes.data[:150]\n",
      "    >>> y = diabetes.target[:150]\n",
      "    >>> lasso = linear_model.Lasso()\n",
      "    >>> print(cross_val_score(lasso, X, y, cv=3))\n",
      "    [0.33150734 0.08022311 0.03531764]\n",
      "    \n",
      "    See Also\n",
      "    ---------\n",
      "    cross_validate : To run cross-validation on multiple metrics and also to\n",
      "        return train scores, fit times and score times.\n",
      "    \n",
      "    cross_val_predict : Get predictions from each split of cross-validation for\n",
      "        diagnostic purposes.\n",
      "    \n",
      "    sklearn.metrics.make_scorer : Make a scorer from a performance metric or\n",
      "        loss function.\n",
      "\n"
     ]
    }
   ],
   "source": [
    "help(cross_val_score)"
   ]
  },
  {
   "cell_type": "code",
   "execution_count": 12,
   "id": "fe753d75",
   "metadata": {
    "execution": {
     "iopub.execute_input": "2021-08-25T16:05:52.787011Z",
     "iopub.status.busy": "2021-08-25T16:05:52.786395Z",
     "iopub.status.idle": "2021-08-25T16:05:53.525723Z",
     "shell.execute_reply": "2021-08-25T16:05:53.526477Z",
     "shell.execute_reply.started": "2021-08-25T16:03:58.803091Z"
    },
    "papermill": {
     "duration": 0.764888,
     "end_time": "2021-08-25T16:05:53.526708",
     "exception": false,
     "start_time": "2021-08-25T16:05:52.761820",
     "status": "completed"
    },
    "tags": []
   },
   "outputs": [],
   "source": [
    "clf = RidgeClassifier()\n",
    "scores = cross_val_score(clf,train_vectors,train_df['target'],cv=3,scoring= 'f1')"
   ]
  },
  {
   "cell_type": "code",
   "execution_count": 13,
   "id": "71ad665b",
   "metadata": {
    "execution": {
     "iopub.execute_input": "2021-08-25T16:05:53.613642Z",
     "iopub.status.busy": "2021-08-25T16:05:53.612500Z",
     "iopub.status.idle": "2021-08-25T16:05:53.616716Z",
     "shell.execute_reply": "2021-08-25T16:05:53.617626Z",
     "shell.execute_reply.started": "2021-08-25T16:04:00.288240Z"
    },
    "papermill": {
     "duration": 0.053436,
     "end_time": "2021-08-25T16:05:53.617903",
     "exception": false,
     "start_time": "2021-08-25T16:05:53.564467",
     "status": "completed"
    },
    "tags": []
   },
   "outputs": [
    {
     "data": {
      "text/plain": [
       "array([0.59453669, 0.56498283, 0.64082434])"
      ]
     },
     "execution_count": 13,
     "metadata": {},
     "output_type": "execute_result"
    }
   ],
   "source": [
    "scores"
   ]
  },
  {
   "cell_type": "markdown",
   "id": "21093bf7",
   "metadata": {
    "papermill": {
     "duration": 0.021022,
     "end_time": "2021-08-25T16:05:53.675277",
     "exception": false,
     "start_time": "2021-08-25T16:05:53.654255",
     "status": "completed"
    },
    "tags": []
   },
   "source": []
  },
  {
   "cell_type": "code",
   "execution_count": 14,
   "id": "a1212bc4",
   "metadata": {
    "execution": {
     "iopub.execute_input": "2021-08-25T16:05:53.722200Z",
     "iopub.status.busy": "2021-08-25T16:05:53.721497Z",
     "iopub.status.idle": "2021-08-25T16:05:54.128610Z",
     "shell.execute_reply": "2021-08-25T16:05:54.129524Z",
     "shell.execute_reply.started": "2021-08-25T16:04:00.306962Z"
    },
    "papermill": {
     "duration": 0.434459,
     "end_time": "2021-08-25T16:05:54.129727",
     "exception": false,
     "start_time": "2021-08-25T16:05:53.695268",
     "status": "completed"
    },
    "tags": []
   },
   "outputs": [
    {
     "data": {
      "text/plain": [
       "RidgeClassifier()"
      ]
     },
     "execution_count": 14,
     "metadata": {},
     "output_type": "execute_result"
    }
   ],
   "source": [
    "clf.fit(train_vectors,train_df['target'])"
   ]
  },
  {
   "cell_type": "code",
   "execution_count": 16,
   "id": "6f86c277",
   "metadata": {
    "execution": {
     "iopub.execute_input": "2021-08-25T16:05:54.199815Z",
     "iopub.status.busy": "2021-08-25T16:05:54.198847Z",
     "iopub.status.idle": "2021-08-25T16:05:54.211728Z",
     "shell.execute_reply": "2021-08-25T16:05:54.210683Z",
     "shell.execute_reply.started": "2021-08-25T16:04:00.856927Z"
    },
    "papermill": {
     "duration": 0.055405,
     "end_time": "2021-08-25T16:05:54.211944",
     "exception": false,
     "start_time": "2021-08-25T16:05:54.156539",
     "status": "completed"
    },
    "tags": []
   },
   "outputs": [],
   "source": [
    "sub_df = pd.read_csv(\"sample_submission.csv\")"
   ]
  },
  {
   "cell_type": "code",
   "execution_count": 17,
   "id": "6c6d4961",
   "metadata": {
    "execution": {
     "iopub.execute_input": "2021-08-25T16:05:54.276876Z",
     "iopub.status.busy": "2021-08-25T16:05:54.276108Z",
     "iopub.status.idle": "2021-08-25T16:05:54.278823Z",
     "shell.execute_reply": "2021-08-25T16:05:54.279357Z",
     "shell.execute_reply.started": "2021-08-25T16:04:00.913081Z"
    },
    "papermill": {
     "duration": 0.031231,
     "end_time": "2021-08-25T16:05:54.279535",
     "exception": false,
     "start_time": "2021-08-25T16:05:54.248304",
     "status": "completed"
    },
    "tags": []
   },
   "outputs": [],
   "source": [
    "sub_df['target'] = clf.predict(test_vectors)"
   ]
  },
  {
   "cell_type": "code",
   "execution_count": 18,
   "id": "9f57e59b",
   "metadata": {
    "execution": {
     "iopub.execute_input": "2021-08-25T16:05:54.324508Z",
     "iopub.status.busy": "2021-08-25T16:05:54.323497Z",
     "iopub.status.idle": "2021-08-25T16:05:54.332734Z",
     "shell.execute_reply": "2021-08-25T16:05:54.333276Z",
     "shell.execute_reply.started": "2021-08-25T16:04:00.922939Z"
    },
    "papermill": {
     "duration": 0.033353,
     "end_time": "2021-08-25T16:05:54.333439",
     "exception": false,
     "start_time": "2021-08-25T16:05:54.300086",
     "status": "completed"
    },
    "tags": []
   },
   "outputs": [
    {
     "data": {
      "text/html": [
       "<div>\n",
       "<style scoped>\n",
       "    .dataframe tbody tr th:only-of-type {\n",
       "        vertical-align: middle;\n",
       "    }\n",
       "\n",
       "    .dataframe tbody tr th {\n",
       "        vertical-align: top;\n",
       "    }\n",
       "\n",
       "    .dataframe thead th {\n",
       "        text-align: right;\n",
       "    }\n",
       "</style>\n",
       "<table border=\"1\" class=\"dataframe\">\n",
       "  <thead>\n",
       "    <tr style=\"text-align: right;\">\n",
       "      <th></th>\n",
       "      <th>id</th>\n",
       "      <th>target</th>\n",
       "    </tr>\n",
       "  </thead>\n",
       "  <tbody>\n",
       "    <tr>\n",
       "      <th>0</th>\n",
       "      <td>0</td>\n",
       "      <td>0</td>\n",
       "    </tr>\n",
       "    <tr>\n",
       "      <th>1</th>\n",
       "      <td>2</td>\n",
       "      <td>1</td>\n",
       "    </tr>\n",
       "    <tr>\n",
       "      <th>2</th>\n",
       "      <td>3</td>\n",
       "      <td>1</td>\n",
       "    </tr>\n",
       "    <tr>\n",
       "      <th>3</th>\n",
       "      <td>9</td>\n",
       "      <td>0</td>\n",
       "    </tr>\n",
       "    <tr>\n",
       "      <th>4</th>\n",
       "      <td>11</td>\n",
       "      <td>1</td>\n",
       "    </tr>\n",
       "  </tbody>\n",
       "</table>\n",
       "</div>"
      ],
      "text/plain": [
       "   id  target\n",
       "0   0       0\n",
       "1   2       1\n",
       "2   3       1\n",
       "3   9       0\n",
       "4  11       1"
      ]
     },
     "execution_count": 18,
     "metadata": {},
     "output_type": "execute_result"
    }
   ],
   "source": [
    "sub_df.head()"
   ]
  },
  {
   "cell_type": "code",
   "execution_count": 19,
   "id": "9b94f1e0",
   "metadata": {
    "execution": {
     "iopub.execute_input": "2021-08-25T16:05:54.379545Z",
     "iopub.status.busy": "2021-08-25T16:05:54.378594Z",
     "iopub.status.idle": "2021-08-25T16:05:54.393110Z",
     "shell.execute_reply": "2021-08-25T16:05:54.392501Z",
     "shell.execute_reply.started": "2021-08-25T16:04:00.944131Z"
    },
    "papermill": {
     "duration": 0.038735,
     "end_time": "2021-08-25T16:05:54.393302",
     "exception": false,
     "start_time": "2021-08-25T16:05:54.354567",
     "status": "completed"
    },
    "tags": []
   },
   "outputs": [],
   "source": [
    "sub_df.to_csv(\"submission.csv\",index=False)"
   ]
  },
  {
   "cell_type": "code",
   "execution_count": null,
   "id": "36a947dc",
   "metadata": {},
   "outputs": [],
   "source": []
  }
 ],
 "metadata": {
  "kernelspec": {
   "display_name": "Python 3 (ipykernel)",
   "language": "python",
   "name": "python3"
  },
  "language_info": {
   "codemirror_mode": {
    "name": "ipython",
    "version": 3
   },
   "file_extension": ".py",
   "mimetype": "text/x-python",
   "name": "python",
   "nbconvert_exporter": "python",
   "pygments_lexer": "ipython3",
   "version": "3.7.9"
  },
  "papermill": {
   "default_parameters": {},
   "duration": 13.879355,
   "end_time": "2021-08-25T16:05:56.004906",
   "environment_variables": {},
   "exception": null,
   "input_path": "__notebook__.ipynb",
   "output_path": "__notebook__.ipynb",
   "parameters": {},
   "start_time": "2021-08-25T16:05:42.125551",
   "version": "2.3.3"
  }
 },
 "nbformat": 4,
 "nbformat_minor": 5
}
